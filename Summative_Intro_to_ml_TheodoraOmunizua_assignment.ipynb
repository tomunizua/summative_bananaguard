{
  "nbformat": 4,
  "nbformat_minor": 0,
  "metadata": {
    "colab": {
      "provenance": [],
      "toc_visible": true,
      "include_colab_link": true
    },
    "kernelspec": {
      "name": "python3",
      "display_name": "Python 3"
    },
    "language_info": {
      "name": "python"
    }
  },
  "cells": [
    {
      "cell_type": "markdown",
      "metadata": {
        "id": "view-in-github",
        "colab_type": "text"
      },
      "source": [
        "<a href=\"https://colab.research.google.com/github/tomunizua/summative_bananaguard/blob/main/Summative_Intro_to_ml_TheodoraOmunizua_assignment.ipynb\" target=\"_parent\"><img src=\"https://colab.research.google.com/assets/colab-badge.svg\" alt=\"Open In Colab\"/></a>"
      ]
    },
    {
      "cell_type": "markdown",
      "source": [
        "# Optimization Techniques in Machine Learning\n",
        "\n",
        "Objective: This assignment aims to explore implementation or Machine Learning Models with regularization, optimization and Error analysis  techniques used in machine learning to improve models' performance, convergence speed, and efficiency..\n",
        "\n",
        "A Notebook detailing the following\n",
        "\n",
        "* Project name\n",
        "* Clear out puts from cells\n",
        "\n",
        "\n",
        "\n",
        "\n",
        "\n",
        "\n",
        "**Instructions**\n",
        "\n",
        "1. Acquire a dataset suitable for ML tasks as per your proposal.\n",
        "2. Implement a simple machine learning model based on neural networks on the chosen dataset without any defined optimization techniques. (Check instructions)\n",
        "3. Implement and compare the model's performance after applying 3 to 4 disntict combinations regularization and optimization techniques.\n",
        "4. Discuss the results on the README file.\n",
        "5. Make predictions using test data\n",
        "7. Implement error analysis techniques and ensure there is: F1-Score, Recall, Precision, RUC a confusion matrix using plotting libraries (not verbose)\n",
        "\n",
        "Submit notebook to github repo\n",
        "\n"
      ],
      "metadata": {
        "id": "ujuLMxSvoXbg"
      }
    },
    {
      "cell_type": "markdown",
      "source": [
        "\n",
        "# Case Study and Implementation\n",
        "\n",
        "\n"
      ],
      "metadata": {
        "id": "o8VW_IzbI3od"
      }
    },
    {
      "cell_type": "code",
      "source": [
        "#Import Necessary Libraries\n"
      ],
      "metadata": {
        "id": "wGCnpzs9M4Fd"
      },
      "execution_count": null,
      "outputs": []
    },
    {
      "cell_type": "markdown",
      "source": [
        "# The Dataset\n",
        "> ***Brief Description:***\n",
        "State the Problem and A short Description of the data\n"
      ],
      "metadata": {
        "id": "M1FN7bFeIxfH"
      }
    },
    {
      "cell_type": "code",
      "source": [
        "#TO DO: Load Data (Seprate into: Train, Validation and test sets)"
      ],
      "metadata": {
        "id": "nas-T7xwPIso"
      },
      "execution_count": null,
      "outputs": []
    },
    {
      "cell_type": "markdown",
      "source": [
        "#SECTION 1: Model Architecture:\n",
        "\n",
        "\n",
        "\n",
        "```\n",
        "TODO: Insert an image with the Model architecture here.Replace the image Below\n",
        "```\n",
        "> <img src=\"https://miro.medium.com/v2/resize:fit:640/format:webp/1*v1ohAG82xmU6WGsG2hoE8g.png\" alt=\"?\" style=\"width:25px\"/>\n",
        "\n",
        "\n"
      ],
      "metadata": {
        "id": "ve4AiQmGMzIN"
      }
    },
    {
      "cell_type": "markdown",
      "source": [
        "#Task: Define a function that creates models without and With specified Optimization techniques\n"
      ],
      "metadata": {
        "id": "QR4BNYoUMzMP"
      }
    },
    {
      "cell_type": "code",
      "source": [
        "from tensorflow.keras.optimizers import Adam, RMSprop\n",
        "from tensorflow.keras.regularizer\n",
        "from tensorflow.keras.callbacks import EarlyStopping\n",
        "\n",
        "\n",
        "def define_model(optimization: string, regularization_datatype, early_stopping: bool, dropout: float, learning_rate: float):\n",
        "  model= None\n",
        "  model.add(None)\n",
        "  #TO DO: Add more layers as per architecture\n",
        "  model.add(None) # Last Layer\n",
        "  model.compile(optimizer = optimizerNone)\n",
        "  model.fit(None)\n",
        "  return model"
      ],
      "metadata": {
        "id": "gGtPmYb_SDHy"
      },
      "execution_count": null,
      "outputs": []
    },
    {
      "cell_type": "markdown",
      "source": [
        "# Task: Print out the Final Model Accuracy and plot the Loss curve"
      ],
      "metadata": {
        "id": "KJ9OXp1TSaXn"
      }
    },
    {
      "cell_type": "code",
      "source": [
        "def loss_curve_plot(None):\n",
        "  epochs = None\n",
        "  plt.plot(epochs, loss, 'bo', label='Training loss')\n",
        "  plt.plot(epochs, val_loss, 'r', label='Validation loss')\n",
        "  plt.title('Training and Validation Loss')\n",
        "  plt.xlabel('Epochs')\n",
        "  plt.ylabel('Loss')\n",
        "  plt.legend()\n",
        "  plt.show()"
      ],
      "metadata": {
        "id": "fkihQBsaUxGh"
      },
      "execution_count": null,
      "outputs": []
    },
    {
      "cell_type": "markdown",
      "source": [
        "# SECTION 2: Optimization and Regularization Combinations\n",
        "At this point you should now create models that combine various optimization techniques\n",
        "As done before make sure to plot out the loss curve and the accuracy and loss in verbose"
      ],
      "metadata": {
        "id": "9hc6k2taT0_n"
      }
    },
    {
      "cell_type": "code",
      "source": [
        "#TODO:\n",
        "model_2 = define_model('Adam', None)\n",
        "loss_curve_plot(model_2):\n",
        "#print out confusion matrix and error analysis metrics after the cell"
      ],
      "metadata": {
        "id": "nr6HuVEtXvoP"
      },
      "execution_count": null,
      "outputs": []
    },
    {
      "cell_type": "code",
      "source": [
        "#TODO:\n",
        "model_3 = define_model('RMSPop',None)\n",
        "loss_curve_plot(model_3):\n",
        "#print out confusion matrix and error analysis metrics after the cell"
      ],
      "metadata": {
        "id": "UygzqjB-Xvgo"
      },
      "execution_count": null,
      "outputs": []
    },
    {
      "cell_type": "code",
      "source": [
        "#TODO:\n",
        "model_4 = define_model(None)\n",
        "loss_curve_plot(model_4):\n",
        "#print out confusion matrix and error analysis metrics after the cell"
      ],
      "metadata": {
        "id": "9NEtnjqxXvXm"
      },
      "execution_count": null,
      "outputs": []
    },
    {
      "cell_type": "markdown",
      "source": [
        "#Task: Make Predictions using the best saved model\n"
      ],
      "metadata": {
        "id": "3aZLEriYOXI1"
      }
    },
    {
      "cell_type": "markdown",
      "source": [
        "Create a confusion Matrix and F1 score for both Models. Ensure outputs for the cells are visible"
      ],
      "metadata": {
        "id": "LnBLwqTJX3p0"
      }
    },
    {
      "cell_type": "markdown",
      "source": [
        "Finally, Make predictions using the best model. By the time you get to this cell you may realise at some point you needed to save the model so that you cal load it later"
      ],
      "metadata": {
        "id": "bO79SOsZYG-M"
      }
    },
    {
      "cell_type": "code",
      "source": [
        "def make_predictions(model_path, X):\n",
        "\n",
        "    # Load the model\n",
        "    model = load_model(None)\n",
        "    # Make predictions\n",
        "    predictions = None\n",
        "    # Convert probabilities to binary labels (0 or 1)\n",
        "\n",
        "    return predictions\n",
        "\n",
        "#Modify the code appropriately"
      ],
      "metadata": {
        "id": "Nqqe2PasUIAG"
      },
      "execution_count": null,
      "outputs": []
    },
    {
      "cell_type": "code",
      "source": [
        "model_path = None\n",
        "make_predictions(None)"
      ],
      "metadata": {
        "id": "O_jwbvaAUMj4"
      },
      "execution_count": null,
      "outputs": []
    },
    {
      "cell_type": "markdown",
      "source": [
        "Congratulations!!\n"
      ],
      "metadata": {
        "id": "rfTHk2nZMzTH"
      }
    }
  ]
}